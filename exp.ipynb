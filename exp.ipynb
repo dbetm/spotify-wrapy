{
 "cells": [
  {
   "cell_type": "code",
   "execution_count": 1,
   "metadata": {},
   "outputs": [],
   "source": [
    "from utils import load_streaming_history_data"
   ]
  },
  {
   "cell_type": "code",
   "execution_count": 2,
   "metadata": {},
   "outputs": [
    {
     "data": {
      "text/html": [
       "<div>\n",
       "<style scoped>\n",
       "    .dataframe tbody tr th:only-of-type {\n",
       "        vertical-align: middle;\n",
       "    }\n",
       "\n",
       "    .dataframe tbody tr th {\n",
       "        vertical-align: top;\n",
       "    }\n",
       "\n",
       "    .dataframe thead th {\n",
       "        text-align: right;\n",
       "    }\n",
       "</style>\n",
       "<table border=\"1\" class=\"dataframe\">\n",
       "  <thead>\n",
       "    <tr style=\"text-align: right;\">\n",
       "      <th></th>\n",
       "      <th>endTime</th>\n",
       "      <th>artistName</th>\n",
       "      <th>trackName</th>\n",
       "      <th>msPlayed</th>\n",
       "    </tr>\n",
       "  </thead>\n",
       "  <tbody>\n",
       "    <tr>\n",
       "      <th>0</th>\n",
       "      <td>2021-12-04 02:27</td>\n",
       "      <td>Dash Berlin</td>\n",
       "      <td>Waiting - Extended Mix</td>\n",
       "      <td>31691</td>\n",
       "    </tr>\n",
       "    <tr>\n",
       "      <th>1</th>\n",
       "      <td>2021-12-07 05:58</td>\n",
       "      <td>MGMT</td>\n",
       "      <td>Little Dark Age</td>\n",
       "      <td>299960</td>\n",
       "    </tr>\n",
       "    <tr>\n",
       "      <th>2</th>\n",
       "      <td>2021-12-07 06:01</td>\n",
       "      <td>BlabberMouf</td>\n",
       "      <td>On Da Rise</td>\n",
       "      <td>187425</td>\n",
       "    </tr>\n",
       "    <tr>\n",
       "      <th>3</th>\n",
       "      <td>2021-12-07 06:06</td>\n",
       "      <td>Tricky</td>\n",
       "      <td>Hell Is Round The Corner</td>\n",
       "      <td>226960</td>\n",
       "    </tr>\n",
       "    <tr>\n",
       "      <th>4</th>\n",
       "      <td>2021-12-07 06:08</td>\n",
       "      <td>The xx</td>\n",
       "      <td>Intro</td>\n",
       "      <td>127920</td>\n",
       "    </tr>\n",
       "  </tbody>\n",
       "</table>\n",
       "</div>"
      ],
      "text/plain": [
       "            endTime   artistName                 trackName  msPlayed\n",
       "0  2021-12-04 02:27  Dash Berlin    Waiting - Extended Mix     31691\n",
       "1  2021-12-07 05:58         MGMT           Little Dark Age    299960\n",
       "2  2021-12-07 06:01  BlabberMouf                On Da Rise    187425\n",
       "3  2021-12-07 06:06       Tricky  Hell Is Round The Corner    226960\n",
       "4  2021-12-07 06:08       The xx                     Intro    127920"
      ]
     },
     "execution_count": 2,
     "metadata": {},
     "output_type": "execute_result"
    }
   ],
   "source": [
    "data = load_streaming_history_data()\n",
    "data.head()"
   ]
  },
  {
   "cell_type": "code",
   "execution_count": 3,
   "metadata": {},
   "outputs": [
    {
     "data": {
      "text/plain": [
       "{'days': 23, 'hours': 5, 'minutes': 3}"
      ]
     },
     "execution_count": 3,
     "metadata": {},
     "output_type": "execute_result"
    }
   ],
   "source": [
    "from wrapy import calculate_human_total_play\n",
    "\n",
    "calculate_human_total_play(data)"
   ]
  }
 ],
 "metadata": {
  "interpreter": {
   "hash": "43de9cfe8a288debb7d6a2b52ff92e9e5f571e667ea3e2306b054e9ff85095f1"
  },
  "kernelspec": {
   "display_name": "Python 3.8.13 ('.venv': venv)",
   "language": "python",
   "name": "python3"
  },
  "language_info": {
   "codemirror_mode": {
    "name": "ipython",
    "version": 3
   },
   "file_extension": ".py",
   "mimetype": "text/x-python",
   "name": "python",
   "nbconvert_exporter": "python",
   "pygments_lexer": "ipython3",
   "version": "3.8.13"
  },
  "orig_nbformat": 4
 },
 "nbformat": 4,
 "nbformat_minor": 2
}
